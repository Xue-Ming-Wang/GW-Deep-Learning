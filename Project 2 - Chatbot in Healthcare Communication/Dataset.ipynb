{
 "cells": [
  {
   "cell_type": "markdown",
   "metadata": {},
   "source": [
    "Dataset Source: https://huggingface.co/datasets/lavita/ChatDoctor-HealthCareMagic-100k"
   ]
  },
  {
   "cell_type": "markdown",
   "metadata": {},
   "source": [
    "Preprocessed Dataset: https://drive.google.com/file/d/1RUIBfb_inF5Adfj-nY4szDcBlTiYqU6H/view?usp=sharing"
   ]
  }
 ],
 "metadata": {
  "kernelspec": {
   "display_name": "Python 3",
   "language": "python",
   "name": "python3"
  },
  "language_info": {
   "name": "python",
   "version": "3.11.4"
  }
 },
 "nbformat": 4,
 "nbformat_minor": 2
}
